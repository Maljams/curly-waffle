{
 "cells": [
  {
   "cell_type": "markdown",
   "id": "6f11b65d-fd69-4a15-84ca-a94f4b5436b6",
   "metadata": {},
   "source": [
    "# Data Science Tools and Ecosystem #"
   ]
  },
  {
   "cell_type": "markdown",
   "id": "c17adf20-9e4b-4a36-b651-efaa60345e14",
   "metadata": {},
   "source": [
    "In this notebook, I will try to summarise Data Science Tools and Ecosystems.\n"
   ]
  },
  {
   "cell_type": "markdown",
   "id": "a7811f8c-fc28-4d7f-9a1d-5543201f0b2c",
   "metadata": {},
   "source": [
    "**Objectives:**\n",
    "- Understand what JupyterNotebook is\n",
    "- Understand what it is used for\n",
    "- Gain some basic skills in using JupyterNotebook\n"
   ]
  },
  {
   "cell_type": "markdown",
   "id": "d8e375cb-769b-46f1-b54c-42c6d652c339",
   "metadata": {},
   "source": [
    "Some of the popular languages used in data science are:\n",
    "1. Python\n",
    "2. R\n",
    "3. SQL"
   ]
  },
  {
   "cell_type": "markdown",
   "id": "2e452175-f0e8-4f94-a490-2dd2a47af623",
   "metadata": {},
   "source": [
    "Some commonly used libraries that are used by Data Scientists include:\n",
    "1. Numpy\n",
    "2. Pandas\n",
    "3. Matplotlib"
   ]
  },
  {
   "cell_type": "markdown",
   "id": "baf24000-2caa-47fa-82b2-c617fa7e958e",
   "metadata": {},
   "source": [
    "| Data Science Tools |\n",
    "|--------------------|\n",
    "| JupyterLab|\n",
    "| RStudio|\n",
    "| Google Colab  |\n"
   ]
  },
  {
   "cell_type": "markdown",
   "id": "83bd2e9e-b1e1-4c46-bc8e-42d60c3da5c1",
   "metadata": {},
   "source": [
    "### Here are a few examples of arithmetic expressions in Python.###\n"
   ]
  },
  {
   "cell_type": "code",
   "execution_count": 15,
   "id": "431f3f77-bb95-4636-9c43-4820cb9a7b23",
   "metadata": {},
   "outputs": [
    {
     "data": {
      "text/plain": [
       "17"
      ]
     },
     "execution_count": 15,
     "metadata": {},
     "output_type": "execute_result"
    }
   ],
   "source": [
    "#Here is a simple arithmetic expression to multiply a number and then add integers to it\n",
    "(3*4)+5\n"
   ]
  },
  {
   "cell_type": "code",
   "execution_count": 16,
   "id": "911c2abe-19df-44dd-821d-a3b1f93e3119",
   "metadata": {},
   "outputs": [
    {
     "data": {
      "text/plain": [
       "3.3333333333333335"
      ]
     },
     "execution_count": 16,
     "metadata": {},
     "output_type": "execute_result"
    }
   ],
   "source": [
    "# This formula will convert 200 minutes to hours by dividing it by sixty\n",
    "200 / 60\n"
   ]
  },
  {
   "cell_type": "markdown",
   "id": "329c1171-5879-4451-b0a8-c55ada193fc1",
   "metadata": {},
   "source": [
    "## Author name: \n",
    "Geff Mal"
   ]
  },
  {
   "cell_type": "code",
   "execution_count": null,
   "id": "6c311516-2116-4bcf-9076-d51c61054ec0",
   "metadata": {},
   "outputs": [],
   "source": []
  }
 ],
 "metadata": {
  "kernelspec": {
   "display_name": "Python 3 (ipykernel)",
   "language": "python",
   "name": "python3"
  },
  "language_info": {
   "codemirror_mode": {
    "name": "ipython",
    "version": 3
   },
   "file_extension": ".py",
   "mimetype": "text/x-python",
   "name": "python",
   "nbconvert_exporter": "python",
   "pygments_lexer": "ipython3",
   "version": "3.11.9"
  }
 },
 "nbformat": 4,
 "nbformat_minor": 5
}
